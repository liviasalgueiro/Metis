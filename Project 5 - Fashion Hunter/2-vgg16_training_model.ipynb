{
 "cells": [
  {
   "cell_type": "markdown",
   "metadata": {},
   "source": [
    "#### I used an AWS Instance with GPU. Therefore, before running the notebook, make sure to run this command in terminal:\n",
    "\n",
    "ubuntu$ conda activate tensorflow_p36\n",
    "\n",
    "or \n",
    "\n",
    "ubuntu$ source activate tensorflow_p36"
   ]
  },
  {
   "cell_type": "code",
   "execution_count": 3,
   "metadata": {
    "code_folding": [
     0
    ]
   },
   "outputs": [
    {
     "name": "stderr",
     "output_type": "stream",
     "text": [
      "Using TensorFlow backend.\n"
     ]
    }
   ],
   "source": [
    "#Imports\n",
    "import matplotlib.pyplot as plt\n",
    "import keras\n",
    "from keras.applications import VGG16\n",
    "from keras import models\n",
    "from keras import layers\n",
    "from keras.models import Model, Sequential\n",
    "import os\n",
    "import numpy as np\n",
    "from keras.preprocessing.image import ImageDataGenerator\n",
    "import tensorflow as tf\n",
    "import pandas as pd\n",
    "import ast\n",
    "import matplotlib.image as mpimg\n",
    "import cv2\n",
    "from scipy.spatial.distance import cosine"
   ]
  },
  {
   "cell_type": "markdown",
   "metadata": {},
   "source": [
    "## Fashion Hunter - CNN using Pre-Trained VGG16 Architecture\n",
    "\n",
    "This notebook is for training VGG16 architecture in my dataset and saving the model for future feature extraction."
   ]
  },
  {
   "cell_type": "code",
   "execution_count": 2,
   "metadata": {},
   "outputs": [],
   "source": [
    "sess = tf.Session(config=tf.ConfigProto(log_device_placement=True)) # using AWS Instance's GPU"
   ]
  },
  {
   "cell_type": "code",
   "execution_count": 4,
   "metadata": {},
   "outputs": [],
   "source": [
    "base_dir = '/home/ubuntu/clothes'\n",
    "\n",
    "train_dir = os.path.join(base_dir, 'train')\n",
    "validation_dir = os.path.join(base_dir, 'validation')\n",
    "test_dir = os.path.join(base_dir, 'test')"
   ]
  },
  {
   "cell_type": "code",
   "execution_count": 92,
   "metadata": {},
   "outputs": [
    {
     "name": "stdout",
     "output_type": "stream",
     "text": [
      "Train Size =  21129\n",
      "Validation Size =  7041\n",
      "Test Size =  7041\n",
      "Total: 35211\n"
     ]
    }
   ],
   "source": [
    "train_size = 0\n",
    "test_size = 0\n",
    "val_size = 0 \n",
    "\n",
    "for folder in os.listdir(train_dir):\n",
    "    if not folder.startswith(\".\"):\n",
    "        files = os.listdir(os.path.join(train_dir, folder))\n",
    "        for file in files:\n",
    "            if not file.startswith(\".\"):\n",
    "                train_size += 1\n",
    "                \n",
    "for folder in os.listdir(validation_dir):\n",
    "    if not folder.startswith(\".\"):\n",
    "        files = os.listdir(os.path.join(validation_dir, folder))\n",
    "        for file in files:\n",
    "            if not file.startswith(\".\"):\n",
    "                val_size += 1\n",
    "                \n",
    "for folder in os.listdir(test_dir):\n",
    "    if not folder.startswith(\".\"):\n",
    "        files = os.listdir(os.path.join(test_dir, folder))\n",
    "        for file in files:\n",
    "            if not file.startswith(\".\"):\n",
    "                test_size += 1\n",
    "                \n",
    "                \n",
    "print(\"Train Size = \", train_size)\n",
    "print(\"Validation Size = \", val_size)\n",
    "print(\"Test Size = \", test_size)\n",
    "print(\"Total:\" , train_size + val_size + test_size)"
   ]
  },
  {
   "cell_type": "code",
   "execution_count": 79,
   "metadata": {},
   "outputs": [],
   "source": [
    "conv_base = VGG16(weights='imagenet',\n",
    "                  include_top=False,\n",
    "                  input_shape=(150, 150, 3))"
   ]
  },
  {
   "cell_type": "code",
   "execution_count": 7,
   "metadata": {},
   "outputs": [
    {
     "name": "stdout",
     "output_type": "stream",
     "text": [
      "_________________________________________________________________\n",
      "Layer (type)                 Output Shape              Param #   \n",
      "=================================================================\n",
      "input_2 (InputLayer)         (None, 150, 150, 3)       0         \n",
      "_________________________________________________________________\n",
      "block1_conv1 (Conv2D)        (None, 150, 150, 64)      1792      \n",
      "_________________________________________________________________\n",
      "block1_conv2 (Conv2D)        (None, 150, 150, 64)      36928     \n",
      "_________________________________________________________________\n",
      "block1_pool (MaxPooling2D)   (None, 75, 75, 64)        0         \n",
      "_________________________________________________________________\n",
      "block2_conv1 (Conv2D)        (None, 75, 75, 128)       73856     \n",
      "_________________________________________________________________\n",
      "block2_conv2 (Conv2D)        (None, 75, 75, 128)       147584    \n",
      "_________________________________________________________________\n",
      "block2_pool (MaxPooling2D)   (None, 37, 37, 128)       0         \n",
      "_________________________________________________________________\n",
      "block3_conv1 (Conv2D)        (None, 37, 37, 256)       295168    \n",
      "_________________________________________________________________\n",
      "block3_conv2 (Conv2D)        (None, 37, 37, 256)       590080    \n",
      "_________________________________________________________________\n",
      "block3_conv3 (Conv2D)        (None, 37, 37, 256)       590080    \n",
      "_________________________________________________________________\n",
      "block3_pool (MaxPooling2D)   (None, 18, 18, 256)       0         \n",
      "_________________________________________________________________\n",
      "block4_conv1 (Conv2D)        (None, 18, 18, 512)       1180160   \n",
      "_________________________________________________________________\n",
      "block4_conv2 (Conv2D)        (None, 18, 18, 512)       2359808   \n",
      "_________________________________________________________________\n",
      "block4_conv3 (Conv2D)        (None, 18, 18, 512)       2359808   \n",
      "_________________________________________________________________\n",
      "block4_pool (MaxPooling2D)   (None, 9, 9, 512)         0         \n",
      "_________________________________________________________________\n",
      "block5_conv1 (Conv2D)        (None, 9, 9, 512)         2359808   \n",
      "_________________________________________________________________\n",
      "block5_conv2 (Conv2D)        (None, 9, 9, 512)         2359808   \n",
      "_________________________________________________________________\n",
      "block5_conv3 (Conv2D)        (None, 9, 9, 512)         2359808   \n",
      "_________________________________________________________________\n",
      "block5_pool (MaxPooling2D)   (None, 4, 4, 512)         0         \n",
      "=================================================================\n",
      "Total params: 14,714,688\n",
      "Trainable params: 14,714,688\n",
      "Non-trainable params: 0\n",
      "_________________________________________________________________\n"
     ]
    }
   ],
   "source": [
    "conv_base.summary()"
   ]
  },
  {
   "cell_type": "code",
   "execution_count": 8,
   "metadata": {},
   "outputs": [],
   "source": [
    "# Adding sequential layers to the convolutional base:\n",
    "model = models.Sequential()\n",
    "model.add(conv_base)\n",
    "model.add(layers.Flatten(name = \"features_layer\")) #flatten layer used for features extraction later\n",
    "model.add(layers.Dense(256, activation='relu'))\n",
    "model.add(layers.Dense(7, activation='softmax'))"
   ]
  },
  {
   "cell_type": "code",
   "execution_count": 9,
   "metadata": {},
   "outputs": [
    {
     "name": "stdout",
     "output_type": "stream",
     "text": [
      "_________________________________________________________________\n",
      "Layer (type)                 Output Shape              Param #   \n",
      "=================================================================\n",
      "vgg16 (Model)                (None, 4, 4, 512)         14714688  \n",
      "_________________________________________________________________\n",
      "features_layer (Flatten)     (None, 8192)              0         \n",
      "_________________________________________________________________\n",
      "dense_1 (Dense)              (None, 256)               2097408   \n",
      "_________________________________________________________________\n",
      "dense_2 (Dense)              (None, 7)                 1799      \n",
      "=================================================================\n",
      "Total params: 16,813,895\n",
      "Trainable params: 16,813,895\n",
      "Non-trainable params: 0\n",
      "_________________________________________________________________\n"
     ]
    }
   ],
   "source": [
    "model.summary()"
   ]
  },
  {
   "cell_type": "code",
   "execution_count": 10,
   "metadata": {},
   "outputs": [
    {
     "name": "stdout",
     "output_type": "stream",
     "text": [
      "This is the number of trainable weights before freezing the conv base: 30\n"
     ]
    }
   ],
   "source": [
    "print('This is the number of trainable weights '\n",
    "      'before freezing the conv base:', len(model.trainable_weights))"
   ]
  },
  {
   "cell_type": "code",
   "execution_count": 11,
   "metadata": {},
   "outputs": [],
   "source": [
    "conv_base.trainable = False"
   ]
  },
  {
   "cell_type": "code",
   "execution_count": 12,
   "metadata": {},
   "outputs": [
    {
     "name": "stdout",
     "output_type": "stream",
     "text": [
      "This is the number of trainable weights after freezing the conv base: 4\n"
     ]
    }
   ],
   "source": [
    "print('This is the number of trainable weights '\n",
    "      'after freezing the conv base:', len(model.trainable_weights))"
   ]
  },
  {
   "cell_type": "code",
   "execution_count": 13,
   "metadata": {},
   "outputs": [
    {
     "name": "stdout",
     "output_type": "stream",
     "text": [
      "Found 21129 images belonging to 7 classes.\n"
     ]
    },
    {
     "name": "stderr",
     "output_type": "stream",
     "text": [
      "W0909 14:18:24.860940 139652271224576 deprecation_wrapper.py:119] From /home/ubuntu/anaconda3/envs/tensorflow_p36/lib/python3.6/site-packages/keras/optimizers.py:790: The name tf.train.Optimizer is deprecated. Please use tf.compat.v1.train.Optimizer instead.\n",
      "\n",
      "W0909 14:18:24.986634 139652271224576 deprecation.py:323] From /home/ubuntu/anaconda3/envs/tensorflow_p36/lib/python3.6/site-packages/tensorflow/python/ops/math_grad.py:1250: add_dispatch_support.<locals>.wrapper (from tensorflow.python.ops.array_ops) is deprecated and will be removed in a future version.\n",
      "Instructions for updating:\n",
      "Use tf.where in 2.0, which has the same broadcast rule as np.where\n"
     ]
    },
    {
     "name": "stdout",
     "output_type": "stream",
     "text": [
      "Found 7041 images belonging to 7 classes.\n",
      "Epoch 1/100\n",
      " - 27s - loss: 1.0909 - acc: 0.6640 - val_loss: 0.4930 - val_acc: 0.8280\n",
      "Epoch 2/100\n",
      " - 21s - loss: 0.7401 - acc: 0.7435 - val_loss: 0.4845 - val_acc: 0.8190\n",
      "Epoch 3/100\n",
      " - 22s - loss: 0.6340 - acc: 0.7830 - val_loss: 0.3926 - val_acc: 0.8660\n",
      "Epoch 4/100\n",
      " - 22s - loss: 0.6020 - acc: 0.7945 - val_loss: 0.6394 - val_acc: 0.7950\n",
      "Epoch 5/100\n",
      " - 22s - loss: 0.5833 - acc: 0.8030 - val_loss: 0.4296 - val_acc: 0.8460\n",
      "Epoch 6/100\n",
      " - 21s - loss: 0.5487 - acc: 0.8135 - val_loss: 0.3600 - val_acc: 0.8900\n",
      "Epoch 7/100\n",
      " - 21s - loss: 0.5550 - acc: 0.8070 - val_loss: 0.4292 - val_acc: 0.8480\n",
      "Epoch 8/100\n",
      " - 22s - loss: 0.5535 - acc: 0.8165 - val_loss: 0.4055 - val_acc: 0.8481\n",
      "Epoch 9/100\n",
      " - 22s - loss: 0.5342 - acc: 0.8215 - val_loss: 0.4202 - val_acc: 0.8760\n",
      "Epoch 10/100\n",
      " - 22s - loss: 0.5121 - acc: 0.8270 - val_loss: 0.3670 - val_acc: 0.8900\n",
      "Epoch 11/100\n",
      " - 20s - loss: 0.5075 - acc: 0.8207 - val_loss: 0.3574 - val_acc: 0.8790\n",
      "Epoch 12/100\n",
      " - 19s - loss: 0.4647 - acc: 0.8370 - val_loss: 0.4611 - val_acc: 0.8320\n",
      "Epoch 13/100\n",
      " - 19s - loss: 0.5012 - acc: 0.8305 - val_loss: 0.4164 - val_acc: 0.8600\n",
      "Epoch 14/100\n",
      " - 19s - loss: 0.5255 - acc: 0.8170 - val_loss: 0.4172 - val_acc: 0.8610\n",
      "Epoch 15/100\n",
      " - 19s - loss: 0.4991 - acc: 0.8295 - val_loss: 0.4114 - val_acc: 0.8614\n",
      "Epoch 16/100\n",
      " - 19s - loss: 0.5134 - acc: 0.8225 - val_loss: 0.4587 - val_acc: 0.8680\n",
      "Epoch 17/100\n",
      " - 19s - loss: 0.4675 - acc: 0.8360 - val_loss: 0.3585 - val_acc: 0.8760\n",
      "Epoch 18/100\n",
      " - 19s - loss: 0.4555 - acc: 0.8375 - val_loss: 0.3824 - val_acc: 0.8730\n",
      "Epoch 19/100\n",
      " - 19s - loss: 0.4511 - acc: 0.8455 - val_loss: 0.3728 - val_acc: 0.8680\n",
      "Epoch 20/100\n",
      " - 19s - loss: 0.4401 - acc: 0.8450 - val_loss: 0.3896 - val_acc: 0.8850\n",
      "Epoch 21/100\n",
      " - 19s - loss: 0.4396 - acc: 0.8535 - val_loss: 0.3538 - val_acc: 0.8820\n",
      "Epoch 22/100\n",
      " - 19s - loss: 0.4523 - acc: 0.8429 - val_loss: 0.4078 - val_acc: 0.8787\n",
      "Epoch 23/100\n",
      " - 19s - loss: 0.4343 - acc: 0.8570 - val_loss: 0.2982 - val_acc: 0.8990\n",
      "Epoch 24/100\n",
      " - 19s - loss: 0.4997 - acc: 0.8335 - val_loss: 0.3076 - val_acc: 0.9020\n",
      "Epoch 25/100\n",
      " - 19s - loss: 0.4346 - acc: 0.8475 - val_loss: 0.2940 - val_acc: 0.9040\n",
      "Epoch 26/100\n",
      " - 19s - loss: 0.4662 - acc: 0.8490 - val_loss: 0.4362 - val_acc: 0.8570\n",
      "Epoch 27/100\n",
      " - 19s - loss: 0.4456 - acc: 0.8440 - val_loss: 0.3748 - val_acc: 0.8600\n",
      "Epoch 28/100\n",
      " - 19s - loss: 0.4442 - acc: 0.8470 - val_loss: 0.3710 - val_acc: 0.8880\n",
      "Epoch 29/100\n",
      " - 19s - loss: 0.4113 - acc: 0.8605 - val_loss: 0.3679 - val_acc: 0.8930\n",
      "Epoch 30/100\n",
      " - 19s - loss: 0.4539 - acc: 0.8520 - val_loss: 0.3351 - val_acc: 0.8830\n",
      "Epoch 31/100\n",
      " - 19s - loss: 0.4554 - acc: 0.8330 - val_loss: 0.3471 - val_acc: 0.8820\n",
      "Epoch 32/100\n",
      " - 19s - loss: 0.4237 - acc: 0.8479 - val_loss: 0.3287 - val_acc: 0.8800\n",
      "Epoch 33/100\n",
      " - 19s - loss: 0.4177 - acc: 0.8630 - val_loss: 0.2813 - val_acc: 0.8990\n",
      "Epoch 34/100\n",
      " - 19s - loss: 0.4540 - acc: 0.8590 - val_loss: 0.3077 - val_acc: 0.8960\n",
      "Epoch 35/100\n",
      " - 19s - loss: 0.4384 - acc: 0.8515 - val_loss: 0.3839 - val_acc: 0.8780\n",
      "Epoch 36/100\n",
      " - 19s - loss: 0.4251 - acc: 0.8580 - val_loss: 0.3486 - val_acc: 0.8899\n",
      "Epoch 37/100\n",
      " - 19s - loss: 0.3973 - acc: 0.8660 - val_loss: 0.3418 - val_acc: 0.8900\n",
      "Epoch 38/100\n",
      " - 19s - loss: 0.4126 - acc: 0.8635 - val_loss: 0.3796 - val_acc: 0.8650\n",
      "Epoch 39/100\n",
      " - 19s - loss: 0.4260 - acc: 0.8595 - val_loss: 0.2981 - val_acc: 0.8980\n",
      "Epoch 40/100\n",
      " - 19s - loss: 0.4410 - acc: 0.8440 - val_loss: 0.3382 - val_acc: 0.8910\n",
      "Epoch 41/100\n",
      " - 19s - loss: 0.4120 - acc: 0.8545 - val_loss: 0.3537 - val_acc: 0.8790\n",
      "Epoch 42/100\n",
      " - 19s - loss: 0.4097 - acc: 0.8645 - val_loss: 0.3504 - val_acc: 0.8770\n",
      "Epoch 43/100\n",
      " - 19s - loss: 0.4096 - acc: 0.8628 - val_loss: 0.3354 - val_acc: 0.8858\n",
      "Epoch 44/100\n",
      " - 19s - loss: 0.4055 - acc: 0.8610 - val_loss: 0.4357 - val_acc: 0.8660\n",
      "Epoch 45/100\n",
      " - 19s - loss: 0.4022 - acc: 0.8615 - val_loss: 0.3264 - val_acc: 0.9010\n",
      "Epoch 46/100\n",
      " - 19s - loss: 0.4238 - acc: 0.8550 - val_loss: 0.2917 - val_acc: 0.8940\n",
      "Epoch 47/100\n",
      " - 19s - loss: 0.3962 - acc: 0.8640 - val_loss: 0.3313 - val_acc: 0.8850\n",
      "Epoch 48/100\n",
      " - 19s - loss: 0.4096 - acc: 0.8590 - val_loss: 0.2940 - val_acc: 0.9020\n",
      "Epoch 49/100\n",
      " - 19s - loss: 0.4089 - acc: 0.8665 - val_loss: 0.3014 - val_acc: 0.8980\n",
      "Epoch 50/100\n",
      " - 19s - loss: 0.4026 - acc: 0.8660 - val_loss: 0.3402 - val_acc: 0.8848\n",
      "Epoch 51/100\n",
      " - 19s - loss: 0.4247 - acc: 0.8645 - val_loss: 0.3300 - val_acc: 0.8730\n",
      "Epoch 52/100\n",
      " - 19s - loss: 0.4128 - acc: 0.8555 - val_loss: 0.3627 - val_acc: 0.8890\n",
      "Epoch 53/100\n",
      " - 19s - loss: 0.3749 - acc: 0.8800 - val_loss: 0.2676 - val_acc: 0.9020\n",
      "Epoch 54/100\n",
      " - 19s - loss: 0.4077 - acc: 0.8565 - val_loss: 0.3859 - val_acc: 0.8770\n",
      "Epoch 55/100\n",
      " - 19s - loss: 0.4239 - acc: 0.8570 - val_loss: 0.3040 - val_acc: 0.9010\n",
      "Epoch 56/100\n",
      " - 19s - loss: 0.3847 - acc: 0.8635 - val_loss: 0.3148 - val_acc: 0.8840\n",
      "Epoch 57/100\n",
      " - 19s - loss: 0.3810 - acc: 0.8640 - val_loss: 0.3015 - val_acc: 0.9052\n",
      "Epoch 58/100\n",
      " - 19s - loss: 0.3649 - acc: 0.8675 - val_loss: 0.3365 - val_acc: 0.8870\n",
      "Epoch 59/100\n",
      " - 19s - loss: 0.4027 - acc: 0.8660 - val_loss: 0.2761 - val_acc: 0.9090\n",
      "Epoch 60/100\n",
      " - 19s - loss: 0.4197 - acc: 0.8505 - val_loss: 0.3373 - val_acc: 0.8850\n",
      "Epoch 61/100\n",
      " - 19s - loss: 0.3658 - acc: 0.8665 - val_loss: 0.3493 - val_acc: 0.8780\n",
      "Epoch 62/100\n",
      " - 19s - loss: 0.3666 - acc: 0.8730 - val_loss: 0.2761 - val_acc: 0.9190\n",
      "Epoch 63/100\n",
      " - 19s - loss: 0.3901 - acc: 0.8770 - val_loss: 0.3262 - val_acc: 0.8950\n",
      "Epoch 64/100\n",
      " - 19s - loss: 0.3749 - acc: 0.8669 - val_loss: 0.2972 - val_acc: 0.9103\n",
      "Epoch 65/100\n",
      " - 19s - loss: 0.3646 - acc: 0.8740 - val_loss: 0.2839 - val_acc: 0.9070\n",
      "Epoch 66/100\n",
      " - 19s - loss: 0.4002 - acc: 0.8650 - val_loss: 0.3335 - val_acc: 0.8920\n",
      "Epoch 67/100\n",
      " - 19s - loss: 0.3865 - acc: 0.8685 - val_loss: 0.3511 - val_acc: 0.8800\n",
      "Epoch 68/100\n",
      " - 19s - loss: 0.3734 - acc: 0.8695 - val_loss: 0.3396 - val_acc: 0.8870\n",
      "Epoch 69/100\n",
      " - 19s - loss: 0.4004 - acc: 0.8680 - val_loss: 0.2726 - val_acc: 0.9070\n",
      "Epoch 70/100\n",
      " - 19s - loss: 0.3731 - acc: 0.8765 - val_loss: 0.3301 - val_acc: 0.8800\n",
      "Epoch 71/100\n",
      " - 19s - loss: 0.3931 - acc: 0.8500 - val_loss: 0.2829 - val_acc: 0.9011\n",
      "Epoch 72/100\n",
      " - 19s - loss: 0.3867 - acc: 0.8715 - val_loss: 0.3154 - val_acc: 0.8990\n",
      "Epoch 73/100\n",
      " - 19s - loss: 0.3650 - acc: 0.8730 - val_loss: 0.3503 - val_acc: 0.8810\n",
      "Epoch 74/100\n",
      " - 19s - loss: 0.3957 - acc: 0.8542 - val_loss: 0.2677 - val_acc: 0.9110\n",
      "Epoch 75/100\n",
      " - 19s - loss: 0.3646 - acc: 0.8740 - val_loss: 0.2970 - val_acc: 0.9050\n",
      "Epoch 76/100\n",
      " - 19s - loss: 0.3725 - acc: 0.8720 - val_loss: 0.3424 - val_acc: 0.9010\n",
      "Epoch 77/100\n",
      " - 19s - loss: 0.3675 - acc: 0.8715 - val_loss: 0.3773 - val_acc: 0.8760\n",
      "Epoch 78/100\n",
      " - 19s - loss: 0.3964 - acc: 0.8630 - val_loss: 0.2720 - val_acc: 0.9021\n",
      "Epoch 79/100\n",
      " - 19s - loss: 0.3754 - acc: 0.8655 - val_loss: 0.3055 - val_acc: 0.8990\n",
      "Epoch 80/100\n",
      " - 19s - loss: 0.3328 - acc: 0.8845 - val_loss: 0.3030 - val_acc: 0.8960\n",
      "Epoch 81/100\n",
      " - 19s - loss: 0.3429 - acc: 0.8810 - val_loss: 0.2778 - val_acc: 0.8950\n",
      "Epoch 82/100\n",
      " - 19s - loss: 0.4006 - acc: 0.8635 - val_loss: 0.2946 - val_acc: 0.9160\n",
      "Epoch 83/100\n",
      " - 19s - loss: 0.3907 - acc: 0.8685 - val_loss: 0.3254 - val_acc: 0.8860\n",
      "Epoch 84/100\n",
      " - 19s - loss: 0.3685 - acc: 0.8770 - val_loss: 0.3067 - val_acc: 0.8800\n",
      "Epoch 85/100\n",
      " - 19s - loss: 0.4003 - acc: 0.8589 - val_loss: 0.3017 - val_acc: 0.8991\n",
      "Epoch 86/100\n",
      " - 19s - loss: 0.3557 - acc: 0.8730 - val_loss: 0.2764 - val_acc: 0.9000\n",
      "Epoch 87/100\n",
      " - 19s - loss: 0.3785 - acc: 0.8705 - val_loss: 0.3197 - val_acc: 0.8860\n",
      "Epoch 88/100\n",
      " - 19s - loss: 0.3797 - acc: 0.8745 - val_loss: 0.3270 - val_acc: 0.8940\n",
      "Epoch 89/100\n",
      " - 19s - loss: 0.3597 - acc: 0.8730 - val_loss: 0.2825 - val_acc: 0.9060\n",
      "Epoch 90/100\n",
      " - 19s - loss: 0.3126 - acc: 0.8920 - val_loss: 0.3695 - val_acc: 0.8880\n",
      "Epoch 91/100\n",
      " - 19s - loss: 0.3545 - acc: 0.8735 - val_loss: 0.2541 - val_acc: 0.9240\n",
      "Epoch 92/100\n",
      " - 19s - loss: 0.3719 - acc: 0.8755 - val_loss: 0.2854 - val_acc: 0.9021\n",
      "Epoch 93/100\n",
      " - 19s - loss: 0.4005 - acc: 0.8665 - val_loss: 0.3143 - val_acc: 0.9000\n",
      "Epoch 94/100\n",
      " - 19s - loss: 0.3833 - acc: 0.8710 - val_loss: 0.3574 - val_acc: 0.8810\n",
      "Epoch 95/100\n",
      " - 19s - loss: 0.3830 - acc: 0.8660 - val_loss: 0.3094 - val_acc: 0.8910\n"
     ]
    },
    {
     "name": "stdout",
     "output_type": "stream",
     "text": [
      "Epoch 96/100\n",
      " - 19s - loss: 0.3244 - acc: 0.8925 - val_loss: 0.2800 - val_acc: 0.8980\n",
      "Epoch 97/100\n",
      " - 19s - loss: 0.3916 - acc: 0.8725 - val_loss: 0.2879 - val_acc: 0.9080\n",
      "Epoch 98/100\n",
      " - 19s - loss: 0.3692 - acc: 0.8725 - val_loss: 0.3233 - val_acc: 0.8870\n",
      "Epoch 99/100\n",
      " - 19s - loss: 0.3504 - acc: 0.8805 - val_loss: 0.2842 - val_acc: 0.9001\n",
      "Epoch 100/100\n",
      " - 19s - loss: 0.3626 - acc: 0.8745 - val_loss: 0.2687 - val_acc: 0.9220\n"
     ]
    }
   ],
   "source": [
    "from PIL import ImageFile\n",
    "ImageFile.LOAD_TRUNCATED_IMAGES = True\n",
    "\n",
    "# Data augmentation for the train set:\n",
    "train_datagen = ImageDataGenerator(\n",
    "      rescale=1./255,\n",
    "      rotation_range=40,\n",
    "      width_shift_range=0.2,\n",
    "      height_shift_range=0.2,\n",
    "      shear_range=0.2,\n",
    "      zoom_range=0.2,\n",
    "      horizontal_flip=True,\n",
    "      fill_mode='nearest')\n",
    "\n",
    "# Note that the validation data should not be augmented!\n",
    "test_datagen = ImageDataGenerator(rescale=1./255)\n",
    "\n",
    "train_generator = train_datagen.flow_from_directory(\n",
    "        # This is the target directory\n",
    "        train_dir,\n",
    "        # All images will be resized to 150x150\n",
    "        target_size=(150, 150),\n",
    "        batch_size=20,\n",
    "        class_mode=\"categorical\")\n",
    "\n",
    "validation_generator = test_datagen.flow_from_directory(\n",
    "        validation_dir,\n",
    "        target_size=(150, 150),\n",
    "        batch_size=20,\n",
    "        class_mode=\"categorical\")\n",
    "\n",
    "model.compile(loss='categorical_crossentropy',\n",
    "              optimizer='adam',\n",
    "              metrics=['accuracy'])\n",
    "\n",
    "history = model.fit_generator(\n",
    "      train_generator,\n",
    "      steps_per_epoch=100,\n",
    "      epochs=100,\n",
    "      validation_data=validation_generator,\n",
    "      validation_steps=50,\n",
    "      verbose=2)"
   ]
  },
  {
   "cell_type": "code",
   "execution_count": 14,
   "metadata": {},
   "outputs": [
    {
     "data": {
      "image/png": "[encoded data removed]",
      "text/plain": [
       "<Figure size 432x288 with 1 Axes>"
      ]
     },
     "metadata": {},
     "output_type": "display_data"
    },
    {
     "data": {
      "text/plain": [
       "<Figure size 432x288 with 0 Axes>"
      ]
     },
     "metadata": {},
     "output_type": "display_data"
    }
   ],
   "source": [
    "acc = history.history['acc']\n",
    "val_acc = history.history['val_acc']\n",
    "\n",
    "epochs = range(len(acc))\n",
    "\n",
    "plt.plot(epochs, acc, 'b', label='Training acc', color = \"blue\")\n",
    "plt.plot(epochs, val_acc, 'b', label='Validation acc', color = \"green\")\n",
    "plt.title('Training and validation accuracy')\n",
    "plt.legend()\n",
    "\n",
    "plt.figure()\n",
    "\n",
    "plt.show()"
   ]
  },
  {
   "cell_type": "code",
   "execution_count": 15,
   "metadata": {},
   "outputs": [
    {
     "name": "stdout",
     "output_type": "stream",
     "text": [
      "Found 7041 images belonging to 7 classes.\n",
      "test acc: 0.9149999964237213\n"
     ]
    }
   ],
   "source": [
    "# Test set score:\n",
    "test_generator = test_datagen.flow_from_directory(\n",
    "        test_dir,\n",
    "        target_size=(150, 150),\n",
    "        batch_size=20,\n",
    "        class_mode='categorical')\n",
    "\n",
    "test_loss, test_acc = model.evaluate_generator(test_generator, steps=50)\n",
    "print('test acc:', test_acc)"
   ]
  },
  {
   "cell_type": "code",
   "execution_count": 24,
   "metadata": {},
   "outputs": [],
   "source": [
    "model.save('final_model_classifier.h5')"
   ]
  }
 ],
 "metadata": {
  "kernelspec": {
   "display_name": "Python 3",
   "language": "python",
   "name": "python3"
  },
  "language_info": {
   "codemirror_mode": {
    "name": "ipython",
    "version": 3
   },
   "file_extension": ".py",
   "mimetype": "text/x-python",
   "name": "python",
   "nbconvert_exporter": "python",
   "pygments_lexer": "ipython3",
   "version": "3.7.3"
  }
 },
 "nbformat": 4,
 "nbformat_minor": 2
}
